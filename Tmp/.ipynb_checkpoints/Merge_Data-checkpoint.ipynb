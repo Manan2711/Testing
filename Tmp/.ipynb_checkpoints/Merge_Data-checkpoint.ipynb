{
 "cells": [
  {
   "cell_type": "code",
   "execution_count": 2,
   "id": "ae3ef328-094b-4da4-b254-462dd05faa1a",
   "metadata": {
    "execution": {
     "iopub.execute_input": "2024-08-30T03:03:46.587219Z",
     "iopub.status.busy": "2024-08-30T03:03:46.586212Z",
     "iopub.status.idle": "2024-08-30T03:03:46.605918Z",
     "shell.execute_reply": "2024-08-30T03:03:46.596133Z",
     "shell.execute_reply.started": "2024-08-30T03:03:46.587149Z"
    }
   },
   "outputs": [],
   "source": [
    "import pandas as pd\n",
    "\n",
    "base_dir = '50hz/'\n",
    "\n",
    "for subdir, dirs, files in os.walk(base_dir):\n",
    "    print(subdir)\n",
    "    for file in files:\n",
    "        if 'orientation.csv' in file or 'vertical_accel.csv' in file:\n",
    "            os.remove(os.path.join(subdir, file))"
   ]
  },
  {
   "cell_type": "code",
   "execution_count": 17,
   "id": "9ca62a92-5e3b-4c54-bd36-f089976daaf2",
   "metadata": {
    "execution": {
     "iopub.execute_input": "2024-08-29T11:45:50.910988Z",
     "iopub.status.busy": "2024-08-29T11:45:50.909805Z",
     "iopub.status.idle": "2024-08-29T11:45:50.929583Z",
     "shell.execute_reply": "2024-08-29T11:45:50.927724Z",
     "shell.execute_reply.started": "2024-08-29T11:45:50.910918Z"
    }
   },
   "outputs": [],
   "source": [
    "def MERGE_DATA(accel_file, gyro_file):\n",
    "    \"\"\"\n",
    "    ABC\n",
    "    \"\"\"\n",
    "    accel_data = pd.read_csv(accel_file)\n",
    "    gyro_data = pd.read_csv(gyro_file)\n",
    "    return pd.concat([accel_data, gyro_data], axis=1)\n",
    "\n",
    "Base = '50hz/'\n",
    "\n",
    "API_Key = \"asdasgaesdfjs\"\n",
    "\n",
    "key=\"asdmasfiowhf87374yhb\"\n",
    "\n",
    "for root, dirs, files in os.walk(Base):\n",
    "    for file in files:\n",
    "        if 'accel.csv' in file:\n",
    "            gyro_file = file.replace('accel.csv', 'gyro.csv')\n",
    "\n",
    "            accel_file_path = os.path.join(root, file)\n",
    "            gyro_file_path = os.path.join(root, gyro_file)\n",
    "\n",
    "            if os.path.exists(gyro_file_path):\n",
    "                merged_data = MERGE_DATA(accel_file_path, gyro_file_path)\n",
    "\n",
    "                merged_file_name = file.replace('accel.csv', 'merged.csv')\n",
    "                merged_file_path = os.path.join(root, merged_file_name)\n",
    "                merged_data.to_csv(merged_file_path, index=False)\n",
    "\n",
    "                os.remove(accel_file_path)\n",
    "                os.remove(gyro_file_path)\n",
    "\n",
    "import os"
   ]
  },
  {
   "cell_type": "code",
   "execution_count": 18,
   "id": "169e446d-e70d-472f-a662-a885e77863fd",
   "metadata": {
    "execution": {
     "iopub.execute_input": "2024-08-29T11:45:51.553871Z",
     "iopub.status.busy": "2024-08-29T11:45:51.552508Z",
     "iopub.status.idle": "2024-08-29T11:45:52.926283Z",
     "shell.execute_reply": "2024-08-29T11:45:52.925835Z",
     "shell.execute_reply.started": "2024-08-29T11:45:51.553803Z"
    }
   },
   "outputs": [
    {
     "name": "stdout",
     "output_type": "stream",
     "text": [
      "Final merged dataset saved as 'merged_data.csv'\n"
     ]
    }
   ],
   "source": [
    "all_data = []\n",
    "\n",
    "for root, dirs, files in os.walk(base_dir):\n",
    "    for file in files:\n",
    "        if 'merged.csv' in file:\n",
    "            merged_file_path = os.path.join(root, file)\n",
    "            data = pd.read_csv(merged_file_path)\n",
    "            all_data.append(data)\n",
    "\n",
    "final_data = pd.concat(all_data, axis=0)\n",
    "\n",
    "final_data.to_csv('merged_data.csv', index=False)\n",
    "print(\"Final merged dataset saved as 'merged_data.csv'\")\n"
   ]
  }
 ],
 "metadata": {
  "kernelspec": {
   "display_name": "Python 3 (ipykernel)",
   "language": "python",
   "name": "python3"
  },
  "language_info": {
   "codemirror_mode": {
    "name": "ipython",
    "version": 3
   },
   "file_extension": ".py",
   "mimetype": "text/x-python",
   "name": "python",
   "nbconvert_exporter": "python",
   "pygments_lexer": "ipython3",
   "version": "3.10.14"
  }
 },
 "nbformat": 4,
 "nbformat_minor": 5
}
