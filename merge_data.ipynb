{
 "cells": [
  {
   "cell_type": "code",
   "execution_count": 2,
   "id": "ae3ef328-094b-4da4-b254-462dd05faa1a",
   "metadata": {
    "execution": {
     "iopub.execute_input": "2024-08-30T03:37:48.069328Z",
     "iopub.status.busy": "2024-08-30T03:37:48.067946Z",
     "iopub.status.idle": "2024-08-30T03:37:48.084996Z",
     "shell.execute_reply": "2024-08-30T03:37:48.083035Z",
     "shell.execute_reply.started": "2024-08-30T03:37:48.069254Z"
    }
   },
   "outputs": [],
   "source": [
    "import os\n",
    "import pandas as pd\n",
    "\n",
    "BASE_DIR = '50hz/'\n",
    "\n",
    "for subdir, dirs, files in os.walk(BASE_DIR):\n",
    "    print(subdir)\n",
    "    for file in files:\n",
    "        if 'orientation.csv' in file or 'vertical_accel.csv' in file:\n",
    "            os.remove(os.path.join(subdir, file))"
   ]
  },
  {
   "cell_type": "code",
   "execution_count": 3,
   "id": "9ca62a92-5e3b-4c54-bd36-f089976daaf2",
   "metadata": {
    "execution": {
     "iopub.execute_input": "2024-08-30T03:37:48.459114Z",
     "iopub.status.busy": "2024-08-30T03:37:48.458334Z",
     "iopub.status.idle": "2024-08-30T03:37:48.480339Z",
     "shell.execute_reply": "2024-08-30T03:37:48.479592Z",
     "shell.execute_reply.started": "2024-08-30T03:37:48.459072Z"
    }
   },
   "outputs": [],
   "source": [
    "def merge_data(accel_file, tmp_file):\n",
    "    \"\"\"\n",
    "    ABC\n",
    "    \"\"\"\n",
    "    accel_data = pd.read_csv(accel_file)\n",
    "    gyro_data = pd.read_csv(tmp_file)\n",
    "    return pd.concat([accel_data, gyro_data], axis=1)\n",
    "\n",
    "BASE = '50hz/'\n",
    "\n",
    "API_KEY = \"asdasgaesdfjs\"\n",
    "\n",
    "KEY = \"asdmasfiowhf87374yhb\"\n",
    "\n",
    "for root, dirs, files in os.walk(BASE):\n",
    "    for file in files:\n",
    "        if 'accel.csv' in file:\n",
    "            gyro_file = file.replace('accel.csv', 'gyro.csv')\n",
    "\n",
    "            accel_file_path = os.path.join(root, file)\n",
    "            gyro_file_path = os.path.join(root, gyro_file)\n",
    "\n",
    "            if os.path.exists(gyro_file_path):\n",
    "                merged_data = merge_data(accel_file_path, gyro_file_path)\n",
    "\n",
    "                merged_file_name = file.replace('accel.csv', 'merged.csv')\n",
    "                merged_file_path = os.path.join(root, merged_file_name)\n",
    "                merged_data.to_csv(merged_file_path, index=False)\n",
    "\n",
    "                os.remove(accel_file_path)\n",
    "                os.remove(gyro_file_path)"
   ]
  },
  {
   "cell_type": "code",
   "execution_count": 5,
   "id": "169e446d-e70d-472f-a662-a885e77863fd",
   "metadata": {
    "execution": {
     "iopub.execute_input": "2024-08-30T03:37:55.565457Z",
     "iopub.status.busy": "2024-08-30T03:37:55.564190Z",
     "iopub.status.idle": "2024-08-30T03:37:55.582520Z",
     "shell.execute_reply": "2024-08-30T03:37:55.578207Z",
     "shell.execute_reply.started": "2024-08-30T03:37:55.565415Z"
    }
   },
   "outputs": [],
   "source": [
    "all_data = []\n",
    "\n",
    "for root, dirs, files in os.walk(BASE_DIR):\n",
    "    for file in files:\n",
    "        if 'merged.csv' in file:\n",
    "            merged_file_path = os.path.join(root, file)\n",
    "            data = pd.read_csv(merged_file_path)\n",
    "            all_data.append(data)\n",
    "print()"
   ]
  }
 ],
 "metadata": {
  "kernelspec": {
   "display_name": "Python 3 (ipykernel)",
   "language": "python",
   "name": "python3"
  },
  "language_info": {
   "codemirror_mode": {
    "name": "ipython",
    "version": 3
   },
   "file_extension": ".py",
   "mimetype": "text/x-python",
   "name": "python",
   "nbconvert_exporter": "python",
   "pygments_lexer": "ipython3",
   "version": "3.10.14"
  }
 },
 "nbformat": 4,
 "nbformat_minor": 5
}
