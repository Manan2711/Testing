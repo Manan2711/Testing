{
 "cells": [
  {
   "cell_type": "code",
   "execution_count": 2,
   "id": "b372f433-93ff-4d5c-82fe-d21f4bff2ee7",
   "metadata": {
    "execution": {
     "iopub.execute_input": "2024-09-05T17:18:44.092380Z",
     "iopub.status.busy": "2024-09-05T17:18:44.091318Z",
     "iopub.status.idle": "2024-09-05T17:18:44.103664Z",
     "shell.execute_reply": "2024-09-05T17:18:44.100638Z",
     "shell.execute_reply.started": "2024-09-05T17:18:44.092310Z"
    }
   },
   "outputs": [
    {
     "name": "stdout",
     "output_type": "stream",
     "text": [
      "Fname is\n"
     ]
    }
   ],
   "source": [
    "print(\"Fname is\")"
   ]
  }
 ],
 "metadata": {
  "kernelspec": {
   "display_name": "Python 3 (ipykernel)",
   "language": "python",
   "name": "python3"
  },
  "language_info": {
   "codemirror_mode": {
    "name": "ipython",
    "version": 3
   },
   "file_extension": ".py",
   "mimetype": "text/x-python",
   "name": "python",
   "nbconvert_exporter": "python",
   "pygments_lexer": "ipython3",
   "version": "3.10.14"
  }
 },
 "nbformat": 4,
 "nbformat_minor": 5
}
