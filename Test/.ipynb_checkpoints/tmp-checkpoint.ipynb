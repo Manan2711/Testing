{
 "cells": [
  {
   "cell_type": "code",
   "execution_count": 1,
   "id": "77f448a5-c7c3-41dc-b527-e13291c22c3d",
   "metadata": {
    "execution": {
     "iopub.execute_input": "2024-08-30T05:16:40.448595Z",
     "iopub.status.busy": "2024-08-30T05:16:40.447335Z",
     "iopub.status.idle": "2024-08-30T05:16:40.554348Z",
     "shell.execute_reply": "2024-08-30T05:16:40.554036Z",
     "shell.execute_reply.started": "2024-08-30T05:16:40.448511Z"
    }
   },
   "outputs": [
    {
     "name": "stdout",
     "output_type": "stream",
     "text": [
      "[1]\n"
     ]
    }
   ],
   "source": [
    "import numpy as np\n",
    "\n",
    "a = np.array([1])\n",
    "\n",
    "print(a)\n",
    "print()"
   ]
  }
 ],
 "metadata": {
  "kernelspec": {
   "display_name": "Python 3 (ipykernel)",
   "language": "python",
   "name": "python3"
  },
  "language_info": {
   "codemirror_mode": {
    "name": "ipython",
    "version": 3
   },
   "file_extension": ".py",
   "mimetype": "text/x-python",
   "name": "python",
   "nbconvert_exporter": "python",
   "pygments_lexer": "ipython3",
   "version": "3.10.14"
  }
 },
 "nbformat": 4,
 "nbformat_minor": 5
}
