{
 "cells": [
  {
   "cell_type": "code",
   "execution_count": 3,
   "id": "77f448a5-c7c3-41dc-b527-e13291c22c3d",
   "metadata": {
    "execution": {
     "iopub.execute_input": "2024-08-30T05:20:39.387441Z",
     "iopub.status.busy": "2024-08-30T05:20:39.386580Z",
     "iopub.status.idle": "2024-08-30T05:20:39.399507Z",
     "shell.execute_reply": "2024-08-30T05:20:39.398581Z",
     "shell.execute_reply.started": "2024-08-30T05:20:39.387370Z"
    }
   },
   "outputs": [
    {
     "name": "stdout",
     "output_type": "stream",
     "text": [
      "[1]\n",
      "[2]\n"
     ]
    }
   ],
   "source": [
    "import numpy as np\n",
    "\n",
    "a = np.array([1])\n",
    "\n",
<<<<<<< Updated upstream
    "print(a)"
=======
    "print(a)\n",
    "print(a+1)"
>>>>>>> Stashed changes
   ]
  }
 ],
 "metadata": {
  "kernelspec": {
   "display_name": "Python 3 (ipykernel)",
   "language": "python",
   "name": "python3"
  },
  "language_info": {
   "codemirror_mode": {
    "name": "ipython",
    "version": 3
   },
   "file_extension": ".py",
   "mimetype": "text/x-python",
   "name": "python",
   "nbconvert_exporter": "python",
   "pygments_lexer": "ipython3",
   "version": "3.10.14"
  }
 },
 "nbformat": 4,
 "nbformat_minor": 5
}
