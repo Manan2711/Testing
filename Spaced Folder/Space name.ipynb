{
 "cells": [
  {
   "cell_type": "code",
   "execution_count": 3,
   "id": "4aeb0511-f697-49ea-a726-791750887cf0",
   "metadata": {
    "execution": {
     "iopub.execute_input": "2024-09-05T16:35:28.529391Z",
     "iopub.status.busy": "2024-09-05T16:35:28.528342Z",
     "iopub.status.idle": "2024-09-05T16:35:28.540605Z",
     "shell.execute_reply": "2024-09-05T16:35:28.539478Z",
     "shell.execute_reply.started": "2024-09-05T16:35:28.529320Z"
    }
   },
   "outputs": [
    {
     "name": "stdout",
     "output_type": "stream",
     "text": [
      "[1 2 3 4 5 6 7]\n"
     ]
    }
   ],
   "source": [
    "import numpy as np\n",
    "\n",
    "print(np.array([1,2,3,4,5,6,7]))"
   ]
  }
 ],
 "metadata": {
  "kernelspec": {
   "display_name": "Python 3 (ipykernel)",
   "language": "python",
   "name": "python3"
  },
  "language_info": {
   "codemirror_mode": {
    "name": "ipython",
    "version": 3
   },
   "file_extension": ".py",
   "mimetype": "text/x-python",
   "name": "python",
   "nbconvert_exporter": "python",
   "pygments_lexer": "ipython3",
   "version": "3.10.14"
  }
 },
 "nbformat": 4,
 "nbformat_minor": 5
}
