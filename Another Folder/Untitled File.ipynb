{
 "cells": [
  {
   "cell_type": "code",
   "execution_count": 1,
   "id": "6e3bf077-0a87-4bdc-8c29-0bfef4e97f13",
   "metadata": {
    "execution": {
     "iopub.execute_input": "2024-09-05T16:23:31.452598Z",
     "iopub.status.busy": "2024-09-05T16:23:31.451746Z",
     "iopub.status.idle": "2024-09-05T16:23:31.466627Z",
     "shell.execute_reply": "2024-09-05T16:23:31.460747Z",
     "shell.execute_reply.started": "2024-09-05T16:23:31.452548Z"
    }
   },
   "outputs": [
    {
     "name": "stdout",
     "output_type": "stream",
     "text": [
      "2.5\n"
     ]
    }
   ],
   "source": [
    "import numpy as np\n",
    "\n",
    "print(np.mean([1,2,3,4]))"
   ]
  }
 ],
 "metadata": {
  "kernelspec": {
   "display_name": "Python 3 (ipykernel)",
   "language": "python",
   "name": "python3"
  },
  "language_info": {
   "codemirror_mode": {
    "name": "ipython",
    "version": 3
   },
   "file_extension": ".py",
   "mimetype": "text/x-python",
   "name": "python",
   "nbconvert_exporter": "python",
   "pygments_lexer": "ipython3",
   "version": "3.10.14"
  }
 },
 "nbformat": 4,
 "nbformat_minor": 5
}
