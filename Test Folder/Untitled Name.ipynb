{
 "cells": [
  {
   "cell_type": "code",
   "execution_count": 1,
   "id": "b372f433-93ff-4d5c-82fe-d21f4bff2ee7",
   "metadata": {
    "execution": {
     "iopub.execute_input": "2024-09-05T16:56:02.307076Z",
     "iopub.status.busy": "2024-09-05T16:56:02.306268Z",
     "iopub.status.idle": "2024-09-05T16:56:02.328494Z",
     "shell.execute_reply": "2024-09-05T16:56:02.326838Z",
     "shell.execute_reply.started": "2024-09-05T16:56:02.307026Z"
    }
   },
   "outputs": [
    {
     "name": "stdout",
     "output_type": "stream",
     "text": [
      "Fname\n"
     ]
    }
   ],
   "source": [
    "print(\"Fname\")"
   ]
  }
 ],
 "metadata": {
  "kernelspec": {
   "display_name": "Python 3 (ipykernel)",
   "language": "python",
   "name": "python3"
  },
  "language_info": {
   "codemirror_mode": {
    "name": "ipython",
    "version": 3
   },
   "file_extension": ".py",
   "mimetype": "text/x-python",
   "name": "python",
   "nbconvert_exporter": "python",
   "pygments_lexer": "ipython3",
   "version": "3.10.14"
  }
 },
 "nbformat": 4,
 "nbformat_minor": 5
}
